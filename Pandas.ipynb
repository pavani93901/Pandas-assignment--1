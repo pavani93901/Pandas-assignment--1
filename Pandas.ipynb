{
  "nbformat": 4,
  "nbformat_minor": 0,
  "metadata": {
    "colab": {
      "provenance": [],
      "authorship_tag": "ABX9TyMLOjqZVava3jDNdXOLJMmr",
      "include_colab_link": true
    },
    "kernelspec": {
      "name": "python3",
      "display_name": "Python 3"
    },
    "language_info": {
      "name": "python"
    }
  },
  "cells": [
    {
      "cell_type": "markdown",
      "metadata": {
        "id": "view-in-github",
        "colab_type": "text"
      },
      "source": [
        "<a href=\"https://colab.research.google.com/github/pavani93901/Pandas-assignment--1/blob/main/Pandas.ipynb\" target=\"_parent\"><img src=\"https://colab.research.google.com/assets/colab-badge.svg\" alt=\"Open In Colab\"/></a>"
      ]
    },
    {
      "cell_type": "markdown",
      "source": [],
      "metadata": {
        "id": "qzPYGPgVuAo5"
      }
    },
    {
      "cell_type": "code",
      "execution_count": null,
      "metadata": {
        "id": "mEWZk1Q0tR8x"
      },
      "outputs": [],
      "source": [
        "import pandas as pd"
      ]
    },
    {
      "cell_type": "code",
      "source": [
        "df = pd.read_excel(\"/content/Movies_Dataset.xlsx\")\n",
        "print(df)"
      ],
      "metadata": {
        "colab": {
          "base_uri": "https://localhost:8080/"
        },
        "id": "Pf-yRy80te_w",
        "outputId": "2ebd489c-f92f-49c0-c1df-36b2fc22f510"
      },
      "execution_count": null,
      "outputs": [
        {
          "output_type": "stream",
          "name": "stdout",
          "text": [
            "     Movie Name      Genre  Release_Year  IMDb_Rating  Revenue\n",
            "0       Movie 1     Sci-Fi          2000          6.0  1680.53\n",
            "1       Movie 2  Adventure          2000          2.2   987.24\n",
            "2       Movie 3    Romance          2002          5.2  1122.13\n",
            "3       Movie 4    Romance          2001          4.5   581.84\n",
            "4       Movie 5     Action          2012          6.6  1205.51\n",
            "..          ...        ...           ...          ...      ...\n",
            "995   Movie 996     Sci-Fi          2013          8.7   456.39\n",
            "996   Movie 997  Adventure          1993          6.2  1255.27\n",
            "997   Movie 998    Fantasy          2016          8.1  1161.96\n",
            "998   Movie 999     Action          1996          8.9   941.67\n",
            "999  Movie 1000     Horror          1995          9.4  1390.70\n",
            "\n",
            "[1000 rows x 5 columns]\n"
          ]
        }
      ]
    },
    {
      "cell_type": "code",
      "source": [
        "action_movies = df[df['Genre'] == \"Action\"]\n",
        "print(action_movies)"
      ],
      "metadata": {
        "colab": {
          "base_uri": "https://localhost:8080/"
        },
        "id": "tuKLBkqTuNij",
        "outputId": "567d4a12-c30e-45db-ea3c-063292831d5d"
      },
      "execution_count": null,
      "outputs": [
        {
          "output_type": "stream",
          "name": "stdout",
          "text": [
            "    Movie Name   Genre  Release_Year  IMDb_Rating  Revenue\n",
            "4      Movie 5  Action          2012          6.6  1205.51\n",
            "34    Movie 35  Action          2009          8.7   545.60\n",
            "64    Movie 65  Action          2023          7.7  1137.79\n",
            "65    Movie 66  Action          1999          3.1  1335.85\n",
            "73    Movie 74  Action          2001          4.1   350.80\n",
            "..         ...     ...           ...          ...      ...\n",
            "930  Movie 931  Action          1994          8.6  1863.66\n",
            "944  Movie 945  Action          2004          7.5  1709.81\n",
            "980  Movie 981  Action          2022          5.2    28.40\n",
            "988  Movie 989  Action          2023          4.1   231.67\n",
            "998  Movie 999  Action          1996          8.9   941.67\n",
            "\n",
            "[104 rows x 5 columns]\n"
          ]
        }
      ]
    },
    {
      "cell_type": "code",
      "source": [
        "movies_after_2000 = df[df['Release_Year'] > 2000]\n",
        "print(movies_after_2000)"
      ],
      "metadata": {
        "colab": {
          "base_uri": "https://localhost:8080/"
        },
        "id": "rBQoDfo1vlTJ",
        "outputId": "fec4a83e-f3e2-437d-ff1e-dc0256858ae4"
      },
      "execution_count": null,
      "outputs": [
        {
          "output_type": "stream",
          "name": "stdout",
          "text": [
            "    Movie Name     Genre  Release_Year  IMDb_Rating  Revenue\n",
            "2      Movie 3   Romance          2002          5.2  1122.13\n",
            "3      Movie 4   Romance          2001          4.5   581.84\n",
            "4      Movie 5    Action          2012          6.6  1205.51\n",
            "6      Movie 7   Mystery          2021          5.1  1683.99\n",
            "7      Movie 8    Comedy          2005          4.0  1062.13\n",
            "..         ...       ...           ...          ...      ...\n",
            "988  Movie 989    Action          2023          4.1   231.67\n",
            "989  Movie 990   Fantasy          2004          1.6  1056.58\n",
            "991  Movie 992  Thriller          2004          9.2   251.25\n",
            "995  Movie 996    Sci-Fi          2013          8.7   456.39\n",
            "997  Movie 998   Fantasy          2016          8.1  1161.96\n",
            "\n",
            "[518 rows x 5 columns]\n"
          ]
        }
      ]
    },
    {
      "cell_type": "code",
      "source": [
        "high_rated_movies = df[df['IMDb_Rating'] > 8.5]\n",
        "print(high_rated_movies)"
      ],
      "metadata": {
        "colab": {
          "base_uri": "https://localhost:8080/"
        },
        "id": "EVCG6N_25omC",
        "outputId": "c68af65c-8eaf-4ccb-f78e-474ce323ad2c"
      },
      "execution_count": null,
      "outputs": [
        {
          "output_type": "stream",
          "name": "stdout",
          "text": [
            "     Movie Name      Genre  Release_Year  IMDb_Rating  Revenue\n",
            "34     Movie 35     Action          2009          8.7   545.60\n",
            "51     Movie 52    Mystery          1998          9.0  1089.93\n",
            "56     Movie 57     Comedy          1993          9.2  1586.13\n",
            "74     Movie 75  Adventure          1999          8.6  1688.49\n",
            "81     Movie 82    Mystery          1997          8.6  1238.32\n",
            "..          ...        ...           ...          ...      ...\n",
            "991   Movie 992   Thriller          2004          9.2   251.25\n",
            "992   Movie 993     Horror          1985          9.6   951.23\n",
            "995   Movie 996     Sci-Fi          2013          8.7   456.39\n",
            "998   Movie 999     Action          1996          8.9   941.67\n",
            "999  Movie 1000     Horror          1995          9.4  1390.70\n",
            "\n",
            "[148 rows x 5 columns]\n"
          ]
        }
      ]
    },
    {
      "cell_type": "code",
      "source": [
        "action_movies = df[['Movie Name','Genre']]\n",
        "print(action_movies)"
      ],
      "metadata": {
        "colab": {
          "base_uri": "https://localhost:8080/"
        },
        "id": "jmvLq11s6BNi",
        "outputId": "b0be6bc6-5766-408e-94d2-4280b6604e0b"
      },
      "execution_count": null,
      "outputs": [
        {
          "output_type": "stream",
          "name": "stdout",
          "text": [
            "     Movie Name      Genre\n",
            "0       Movie 1     Sci-Fi\n",
            "1       Movie 2  Adventure\n",
            "2       Movie 3    Romance\n",
            "3       Movie 4    Romance\n",
            "4       Movie 5     Action\n",
            "..          ...        ...\n",
            "995   Movie 996     Sci-Fi\n",
            "996   Movie 997  Adventure\n",
            "997   Movie 998    Fantasy\n",
            "998   Movie 999     Action\n",
            "999  Movie 1000     Horror\n",
            "\n",
            "[1000 rows x 2 columns]\n"
          ]
        }
      ]
    },
    {
      "cell_type": "code",
      "source": [
        "movies_between_years = df[(df['Release_Year'] >=1990) & (df['Release_Year'] <= 2010)]\n",
        "print(movies_between_years)"
      ],
      "metadata": {
        "colab": {
          "base_uri": "https://localhost:8080/"
        },
        "id": "JCoCDcIb6X1J",
        "outputId": "a7f56820-bed0-4f08-a6f2-a8e7ba92c1eb"
      },
      "execution_count": null,
      "outputs": [
        {
          "output_type": "stream",
          "name": "stdout",
          "text": [
            "     Movie Name      Genre  Release_Year  IMDb_Rating  Revenue\n",
            "0       Movie 1     Sci-Fi          2000          6.0  1680.53\n",
            "1       Movie 2  Adventure          2000          2.2   987.24\n",
            "2       Movie 3    Romance          2002          5.2  1122.13\n",
            "3       Movie 4    Romance          2001          4.5   581.84\n",
            "5       Movie 6    Fantasy          1997          2.4   485.22\n",
            "..          ...        ...           ...          ...      ...\n",
            "991   Movie 992   Thriller          2004          9.2   251.25\n",
            "994   Movie 995     Sci-Fi          1997          2.0   342.98\n",
            "996   Movie 997  Adventure          1993          6.2  1255.27\n",
            "998   Movie 999     Action          1996          8.9   941.67\n",
            "999  Movie 1000     Horror          1995          9.4  1390.70\n",
            "\n",
            "[500 rows x 5 columns]\n"
          ]
        }
      ]
    },
    {
      "cell_type": "code",
      "source": [
        "genre_counts = df['Genre'].value_counts()\n",
        "print(genre_counts)"
      ],
      "metadata": {
        "colab": {
          "base_uri": "https://localhost:8080/"
        },
        "id": "WAjUSw4m7ZC1",
        "outputId": "2075914d-9496-45bc-b5b5-4f6c98e75071"
      },
      "execution_count": null,
      "outputs": [
        {
          "output_type": "stream",
          "name": "stdout",
          "text": [
            "Genre\n",
            "Drama        113\n",
            "Comedy       110\n",
            "Fantasy      107\n",
            "Thriller     107\n",
            "Action       104\n",
            "Adventure     96\n",
            "Sci-Fi        93\n",
            "Romance       91\n",
            "Horror        90\n",
            "Mystery       89\n",
            "Name: count, dtype: int64\n"
          ]
        }
      ]
    },
    {
      "cell_type": "code",
      "source": [
        "average_rating = df['IMDb_Rating'].mean()\n",
        "print(average_rating)"
      ],
      "metadata": {
        "colab": {
          "base_uri": "https://localhost:8080/"
        },
        "id": "DTP5xma17tjR",
        "outputId": "a3d193a9-704e-4ef0-8b64-078c6ba67390"
      },
      "execution_count": null,
      "outputs": [
        {
          "output_type": "stream",
          "name": "stdout",
          "text": [
            "5.458600000000001\n"
          ]
        }
      ]
    },
    {
      "cell_type": "code",
      "source": [
        "total_box_office = df['Revenue'].sum()"
      ],
      "metadata": {
        "id": "lIGWcG5K8Poe"
      },
      "execution_count": null,
      "outputs": []
    },
    {
      "cell_type": "code",
      "source": [
        "total_box_office = df[df['Revenue']>500]\n",
        "print(total_box_office)"
      ],
      "metadata": {
        "colab": {
          "base_uri": "https://localhost:8080/"
        },
        "id": "be_p2oWo8bKg",
        "outputId": "2410d0aa-0ccf-49aa-eb66-cadbef17f222"
      },
      "execution_count": null,
      "outputs": [
        {
          "output_type": "stream",
          "name": "stdout",
          "text": [
            "     Movie Name      Genre  Release_Year  IMDb_Rating  Revenue\n",
            "0       Movie 1     Sci-Fi          2000          6.0  1680.53\n",
            "1       Movie 2  Adventure          2000          2.2   987.24\n",
            "2       Movie 3    Romance          2002          5.2  1122.13\n",
            "3       Movie 4    Romance          2001          4.5   581.84\n",
            "4       Movie 5     Action          2012          6.6  1205.51\n",
            "..          ...        ...           ...          ...      ...\n",
            "993   Movie 994  Adventure          1989          7.3  1273.65\n",
            "996   Movie 997  Adventure          1993          6.2  1255.27\n",
            "997   Movie 998    Fantasy          2016          8.1  1161.96\n",
            "998   Movie 999     Action          1996          8.9   941.67\n",
            "999  Movie 1000     Horror          1995          9.4  1390.70\n",
            "\n",
            "[774 rows x 5 columns]\n"
          ]
        }
      ]
    },
    {
      "cell_type": "code",
      "source": [
        "df['Rank'] = df['IMDb_Rating'].rank(ascending = False)\n",
        "print(df[['Movie Name', 'IMDb_Rating','Rank']])"
      ],
      "metadata": {
        "colab": {
          "base_uri": "https://localhost:8080/"
        },
        "id": "kEP61THK8r9f",
        "outputId": "1ec499cf-b667-4734-f685-8e8832be35e8"
      },
      "execution_count": null,
      "outputs": [
        {
          "output_type": "stream",
          "name": "stdout",
          "text": [
            "     Movie Name  IMDb_Rating   Rank\n",
            "0       Movie 1          6.0  432.5\n",
            "1       Movie 2          2.2  869.0\n",
            "2       Movie 3          5.2  529.5\n",
            "3       Movie 4          4.5  609.5\n",
            "4       Movie 5          6.6  353.5\n",
            "..          ...          ...    ...\n",
            "995   Movie 996          8.7  131.5\n",
            "996   Movie 997          6.2  406.5\n",
            "997   Movie 998          8.1  199.5\n",
            "998   Movie 999          8.9  104.5\n",
            "999  Movie 1000          9.4   54.0\n",
            "\n",
            "[1000 rows x 3 columns]\n"
          ]
        }
      ]
    },
    {
      "cell_type": "code",
      "source": [
        "sorted_movies = df.sort_values(by='Release_Year', ascending = False)\n",
        "print(sorted_movies)"
      ],
      "metadata": {
        "colab": {
          "base_uri": "https://localhost:8080/"
        },
        "id": "lMy5O6UU9Llr",
        "outputId": "c86da9a3-ebd0-4e68-e064-11a7b0288bb5"
      },
      "execution_count": null,
      "outputs": [
        {
          "output_type": "stream",
          "name": "stdout",
          "text": [
            "    Movie Name      Genre  Release_Year  IMDb_Rating  Revenue   Rank\n",
            "320  Movie 321    Romance          2024          4.2   477.47  650.5\n",
            "211  Movie 212     Comedy          2024          1.5   837.32  957.0\n",
            "489  Movie 490   Thriller          2024          3.2  1536.79  765.5\n",
            "808  Movie 809     Action          2024          6.0   714.96  432.5\n",
            "917  Movie 918     Horror          2024          1.1  1042.80  991.0\n",
            "..         ...        ...           ...          ...      ...    ...\n",
            "509  Movie 510    Fantasy          1980          6.3  1260.11  392.0\n",
            "798  Movie 799      Drama          1980          3.1  1587.13  774.0\n",
            "496  Movie 497    Fantasy          1980          4.7  1683.97  588.0\n",
            "794  Movie 795  Adventure          1980          4.5  1346.01  609.5\n",
            "170  Movie 171    Mystery          1980          4.6  1684.78  599.0\n",
            "\n",
            "[1000 rows x 6 columns]\n"
          ]
        }
      ]
    },
    {
      "cell_type": "code",
      "source": [
        "duplicate_movies = df[df['Movie Name'].duplicated()]\n",
        "print(duplicate_movies)"
      ],
      "metadata": {
        "colab": {
          "base_uri": "https://localhost:8080/"
        },
        "id": "IL_7m-ZF9eYR",
        "outputId": "5819e053-71b3-4e5d-b9e2-43fe0f92410c"
      },
      "execution_count": null,
      "outputs": [
        {
          "output_type": "stream",
          "name": "stdout",
          "text": [
            "   Movie Name      Genre  Release_Year  IMDb_Rating  Revenue   Rank\n",
            "12   Movie 10      Drama          1996          3.2  1352.66  765.5\n",
            "13   Movie 11    Mystery          2003          6.3   596.43  392.0\n",
            "14   Movie 12     Sci-Fi          1988          3.0  1134.01  786.5\n",
            "20   Movie 16     Comedy          2006          2.3  1322.79  856.0\n",
            "21   Movie 17     Horror          2007          6.2  1114.31  406.5\n",
            "22   Movie 18  Adventure          1998          7.9  1426.73  221.0\n",
            "23   Movie 19     Comedy          1986          6.0  1783.44  432.5\n",
            "24   Movie 20    Fantasy          1982          6.9  1598.08  329.0\n"
          ]
        }
      ]
    },
    {
      "cell_type": "code",
      "source": [
        "df.drop_duplicates(subset=['Movie Name'], inplace = True)\n",
        "print(df)"
      ],
      "metadata": {
        "colab": {
          "base_uri": "https://localhost:8080/"
        },
        "id": "wW9sdlD2-tQR",
        "outputId": "b24c2542-cce0-4427-edb5-ba92e0df0b4a"
      },
      "execution_count": null,
      "outputs": [
        {
          "output_type": "stream",
          "name": "stdout",
          "text": [
            "     Movie Name      Genre  Release_Year  IMDb_Rating  Revenue   Rank\n",
            "0       Movie 1     Sci-Fi          2000          6.0  1680.53  432.5\n",
            "1       Movie 2  Adventure          2000          2.2   987.24  869.0\n",
            "2       Movie 3    Romance          2002          5.2  1122.13  529.5\n",
            "3       Movie 4    Romance          2001          4.5   581.84  609.5\n",
            "4       Movie 5     Action          2012          6.6  1205.51  353.5\n",
            "..          ...        ...           ...          ...      ...    ...\n",
            "995   Movie 996     Sci-Fi          2013          8.7   456.39  131.5\n",
            "996   Movie 997  Adventure          1993          6.2  1255.27  406.5\n",
            "997   Movie 998    Fantasy          2016          8.1  1161.96  199.5\n",
            "998   Movie 999     Action          1996          8.9   941.67  104.5\n",
            "999  Movie 1000     Horror          1995          9.4  1390.70   54.0\n",
            "\n",
            "[992 rows x 6 columns]\n"
          ]
        }
      ]
    },
    {
      "cell_type": "code",
      "source": [
        "df['Genre'] = df['Genre'].replace('Sci-Fi', 'Science Fiction')\n",
        "print(df)"
      ],
      "metadata": {
        "colab": {
          "base_uri": "https://localhost:8080/"
        },
        "id": "e-STQ_BX_Hm1",
        "outputId": "5b168d65-809b-477c-d745-c4bffe358edf"
      },
      "execution_count": null,
      "outputs": [
        {
          "output_type": "stream",
          "name": "stdout",
          "text": [
            "     Movie Name            Genre  Release_Year  IMDb_Rating  Revenue   Rank\n",
            "0       Movie 1  Science Fiction          2000          6.0  1680.53  432.5\n",
            "1       Movie 2        Adventure          2000          2.2   987.24  869.0\n",
            "2       Movie 3          Romance          2002          5.2  1122.13  529.5\n",
            "3       Movie 4          Romance          2001          4.5   581.84  609.5\n",
            "4       Movie 5           Action          2012          6.6  1205.51  353.5\n",
            "..          ...              ...           ...          ...      ...    ...\n",
            "995   Movie 996  Science Fiction          2013          8.7   456.39  131.5\n",
            "996   Movie 997        Adventure          1993          6.2  1255.27  406.5\n",
            "997   Movie 998          Fantasy          2016          8.1  1161.96  199.5\n",
            "998   Movie 999           Action          1996          8.9   941.67  104.5\n",
            "999  Movie 1000           Horror          1995          9.4  1390.70   54.0\n",
            "\n",
            "[992 rows x 6 columns]\n"
          ]
        }
      ]
    },
    {
      "cell_type": "code",
      "source": [
        "last_5_movies = df.tail(5)\n",
        "print(last_5_movies)"
      ],
      "metadata": {
        "colab": {
          "base_uri": "https://localhost:8080/"
        },
        "id": "WLEe9swG_yR4",
        "outputId": "28f42efe-9b2e-48a3-8da3-40dffd995629"
      },
      "execution_count": null,
      "outputs": [
        {
          "output_type": "stream",
          "name": "stdout",
          "text": [
            "     Movie Name            Genre  Release_Year  IMDb_Rating  Revenue   Rank\n",
            "995   Movie 996  Science Fiction          2013          8.7   456.39  131.5\n",
            "996   Movie 997        Adventure          1993          6.2  1255.27  406.5\n",
            "997   Movie 998          Fantasy          2016          8.1  1161.96  199.5\n",
            "998   Movie 999           Action          1996          8.9   941.67  104.5\n",
            "999  Movie 1000           Horror          1995          9.4  1390.70   54.0\n"
          ]
        }
      ]
    },
    {
      "cell_type": "code",
      "source": [
        "average_rating_by_genre = df.groupby('Genre')['IMDb_Rating'].mean()\n",
        "print(average_rating_by_genre)"
      ],
      "metadata": {
        "colab": {
          "base_uri": "https://localhost:8080/"
        },
        "id": "dRlxiiaRANic",
        "outputId": "3f17dd68-2375-4daa-d74b-5234060f3c9f"
      },
      "execution_count": null,
      "outputs": [
        {
          "output_type": "stream",
          "name": "stdout",
          "text": [
            "Genre\n",
            "Action             5.670192\n",
            "Adventure          4.982105\n",
            "Comedy             5.466667\n",
            "Drama              5.191071\n",
            "Fantasy            5.183962\n",
            "Horror             5.810112\n",
            "Mystery            5.772727\n",
            "Romance            5.938462\n",
            "Science Fiction    5.471739\n",
            "Thriller           5.267290\n",
            "Name: IMDb_Rating, dtype: float64\n"
          ]
        }
      ]
    },
    {
      "cell_type": "code",
      "source": [
        "movies_per_year = df['Release_Year'].value_counts().sort_index()\n",
        "print(movies_per_year)"
      ],
      "metadata": {
        "colab": {
          "base_uri": "https://localhost:8080/"
        },
        "id": "A93Tf26GA1wJ",
        "outputId": "c237debe-8633-4c7a-b8e1-79f7f5cd71ff"
      },
      "execution_count": null,
      "outputs": [
        {
          "output_type": "stream",
          "name": "stdout",
          "text": [
            "Release_Year\n",
            "1980    26\n",
            "1981    17\n",
            "1982    20\n",
            "1983    16\n",
            "1984    16\n",
            "1985    28\n",
            "1986    20\n",
            "1987    17\n",
            "1988    19\n",
            "1989    30\n",
            "1990    21\n",
            "1991    21\n",
            "1992    26\n",
            "1993    21\n",
            "1994    23\n",
            "1995    27\n",
            "1996    25\n",
            "1997    22\n",
            "1998    28\n",
            "1999    25\n",
            "2000    29\n",
            "2001    23\n",
            "2002    24\n",
            "2003    24\n",
            "2004    20\n",
            "2005    21\n",
            "2006    22\n",
            "2007    28\n",
            "2008    24\n",
            "2009    21\n",
            "2010    20\n",
            "2011    23\n",
            "2012    20\n",
            "2013    26\n",
            "2014    20\n",
            "2015    23\n",
            "2016    14\n",
            "2017    18\n",
            "2018    18\n",
            "2019    15\n",
            "2020    20\n",
            "2021    16\n",
            "2022    25\n",
            "2023    18\n",
            "2024    32\n",
            "Name: count, dtype: int64\n"
          ]
        }
      ]
    },
    {
      "cell_type": "code",
      "source": [
        " box_office_per_genre = df.groupby('Genre')['Revenue'].sum()\n",
        " print(box_office_per_genre)"
      ],
      "metadata": {
        "colab": {
          "base_uri": "https://localhost:8080/"
        },
        "id": "adQUdB4wBmk9",
        "outputId": "bb9df629-84ea-495e-932e-4b66d58c76ef"
      },
      "execution_count": null,
      "outputs": [
        {
          "output_type": "stream",
          "name": "stdout",
          "text": [
            "Genre\n",
            "Action             111137.94\n",
            "Adventure          102437.69\n",
            "Comedy             119580.40\n",
            "Drama              118958.66\n",
            "Fantasy            108251.78\n",
            "Horror              89281.21\n",
            "Mystery             98236.50\n",
            "Romance             94413.72\n",
            "Science Fiction     84677.79\n",
            "Thriller           112412.12\n",
            "Name: Revenue, dtype: float64\n"
          ]
        }
      ]
    }
  ]
}